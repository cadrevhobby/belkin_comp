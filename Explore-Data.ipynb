{
 "metadata": {
  "name": "Explore-Data"
 }, 
 "nbformat": 2, 
 "worksheets": [
  {
   "cells": [
    {
     "cell_type": "code", 
     "collapsed": false, 
     "input": [
      "import glob", 
      "", 
      "f_list = glob.glob('data/H*/Tagged_*.bin')", 
      "", 
      "for f in f_list:", 
      "    print f"
     ], 
     "language": "python", 
     "outputs": [
      {
       "output_type": "stream", 
       "stream": "stdout", 
       "text": [
        "data/H3/Tagged_Training_08_01_1343804401.bin", 
        "data/H3/Tagged_Training_07_31_1343718001.bin", 
        "data/H3/Tagged_Training_07_30_1343631601.bin", 
        "data/H4/Tagged_Training_07_26_1343286001.bin", 
        "data/H4/Tagged_Training_07_27_1343372401.bin", 
        "data/H1/Tagged_Training_10_25_1351148401.bin", 
        "data/H1/Tagged_Training_10_22_1350889201.bin", 
        "data/H1/Tagged_Training_12_27_1356595201.bin", 
        "data/H1/Tagged_Training_04_13_1334300401.bin", 
        "data/H1/Tagged_Training_10_23_1350975601.bin", 
        "data/H1/Tagged_Training_10_24_1351062001.bin", 
        "data/H2/Tagged_Training_06_13_1339570801.bin", 
        "data/H2/Tagged_Training_02_15_1360915201.bin", 
        "data/H2/Tagged_Training_06_14_1339657201.bin", 
        "data/H2/Tagged_Training_06_15_1339743601.bin"
       ]
      }
     ], 
     "prompt_number": 2
    }, 
    {
     "cell_type": "code", 
     "collapsed": false, 
     "input": [
      "import create_df as cdf", 
      "", 
      "f1 = f_list[4]", 
      "f1", 
      "taggingData, df1, df2 = cdf.create_df(f1)", 
      "df1.head()"
     ], 
     "language": "python", 
     "outputs": [
      {
       "output_type": "pyout", 
       "prompt_number": 23, 
       "text": [
        "       L1_App     L1_Imag     L1_Pf     L1_Real  L1_TimeTicks", 
        "0  353.293671  134.350052  0.925112  326.751404  1.343372e+09", 
        "1  347.322266  131.995499  0.925213  321.263062  1.343372e+09", 
        "2  349.468231  132.760422  0.925272  323.268799  1.343372e+09", 
        "3  345.011292  130.723526  0.925686  319.286957  1.343372e+09", 
        "4  347.992859  131.869370  0.925663  322.039581  1.343372e+09"
       ]
      }
     ], 
     "prompt_number": 23
    }, 
    {
     "cell_type": "code", 
     "collapsed": false, 
     "input": [
      "df2.head()"
     ], 
     "language": "python", 
     "outputs": [
      {
       "output_type": "pyout", 
       "prompt_number": 22, 
       "text": [
        "       L2_App    L2_Imag     L2_Pf     L2_Real  L2_TimeTicks", 
        "0  112.986771  18.404991  0.986683  111.477654  1.343372e+09", 
        "1  113.068108  18.327219  0.986822  111.572891  1.343372e+09", 
        "2  112.378044  18.041361  0.987075  110.920395  1.343372e+09", 
        "3  111.863533  17.691540  0.987459  110.455688  1.343372e+09", 
        "4  112.179787  17.902664  0.987231  110.742035  1.343372e+09"
       ]
      }
     ], 
     "prompt_number": 22
    }, 
    {
     "cell_type": "code", 
     "collapsed": false, 
     "input": [
      "import vincent", 
      "import pandas as pd", 
      "", 
      "line = vincent.Line(df1['L1_App'], iter_idx='L1_TimeTicks')", 
      "line.axis_titles(x='Time Ticks', y='Values')"
     ], 
     "language": "python", 
     "outputs": [
      {
       "ename": "AttributeError", 
       "evalue": "'module' object has no attribute 'DatetimeIndex'", 
       "output_type": "pyerr", 
       "traceback": [
        "\u001b[0;31m---------------------------------------------------------------------------\u001b[0m\n\u001b[0;31mAttributeError\u001b[0m                            Traceback (most recent call last)", 
        "\u001b[0;32m/home/paulyoung/projects/kaggle/belkin_comp/<ipython-input-33-ff8299d4504d>\u001b[0m in \u001b[0;36m<module>\u001b[0;34m()\u001b[0m\n\u001b[1;32m      2\u001b[0m \u001b[0;32mimport\u001b[0m \u001b[0mpandas\u001b[0m \u001b[0;32mas\u001b[0m \u001b[0mpd\u001b[0m\u001b[0;34m\u001b[0m\u001b[0m\n\u001b[1;32m      3\u001b[0m \u001b[0;34m\u001b[0m\u001b[0m\n\u001b[0;32m----> 4\u001b[0;31m \u001b[0mline\u001b[0m \u001b[0;34m=\u001b[0m \u001b[0mvincent\u001b[0m\u001b[0;34m.\u001b[0m\u001b[0mLine\u001b[0m\u001b[0;34m(\u001b[0m\u001b[0mdf1\u001b[0m\u001b[0;34m[\u001b[0m\u001b[0;34m'L1_App'\u001b[0m\u001b[0;34m]\u001b[0m\u001b[0;34m,\u001b[0m \u001b[0miter_idx\u001b[0m\u001b[0;34m=\u001b[0m\u001b[0;34m'L1_TimeTicks'\u001b[0m\u001b[0;34m)\u001b[0m\u001b[0;34m\u001b[0m\u001b[0m\n\u001b[0m\u001b[1;32m      5\u001b[0m \u001b[0mline\u001b[0m\u001b[0;34m.\u001b[0m\u001b[0maxis_titles\u001b[0m\u001b[0;34m(\u001b[0m\u001b[0mx\u001b[0m\u001b[0;34m=\u001b[0m\u001b[0;34m'Time Ticks'\u001b[0m\u001b[0;34m,\u001b[0m \u001b[0my\u001b[0m\u001b[0;34m=\u001b[0m\u001b[0;34m'Values'\u001b[0m\u001b[0;34m)\u001b[0m\u001b[0;34m\u001b[0m\u001b[0m\n", 
        "\u001b[0;32m/usr/local/lib/python2.7/dist-packages/vincent/charts.pyc\u001b[0m in \u001b[0;36m__init__\u001b[0;34m(self, *args, **kwargs)\u001b[0m\n\u001b[1;32m    148\u001b[0m         \u001b[0;34m\"\"\"Create a Vega Line Chart\"\"\"\u001b[0m\u001b[0;34m\u001b[0m\u001b[0m\n\u001b[1;32m    149\u001b[0m \u001b[0;34m\u001b[0m\u001b[0m\n\u001b[0;32m--> 150\u001b[0;31m         \u001b[0msuper\u001b[0m\u001b[0;34m(\u001b[0m\u001b[0mLine\u001b[0m\u001b[0;34m,\u001b[0m \u001b[0mself\u001b[0m\u001b[0;34m)\u001b[0m\u001b[0;34m.\u001b[0m\u001b[0m__init__\u001b[0m\u001b[0;34m(\u001b[0m\u001b[0;34m*\u001b[0m\u001b[0margs\u001b[0m\u001b[0;34m,\u001b[0m \u001b[0;34m**\u001b[0m\u001b[0mkwargs\u001b[0m\u001b[0;34m)\u001b[0m\u001b[0;34m\u001b[0m\u001b[0m\n\u001b[0m\u001b[1;32m    151\u001b[0m \u001b[0;34m\u001b[0m\u001b[0m\n\u001b[1;32m    152\u001b[0m         \u001b[0;31m#Line Updates\u001b[0m\n\u001b[0;34m\u001b[0m\u001b[0m\n", 
        "\u001b[0;32m/usr/local/lib/python2.7/dist-packages/vincent/charts.pyc\u001b[0m in \u001b[0;36m__init__\u001b[0;34m(self, *args, **kwargs)\u001b[0m\n\u001b[1;32m    116\u001b[0m         \u001b[0;34m\"\"\"Create a Vega Bar Chart\"\"\"\u001b[0m\u001b[0;34m\u001b[0m\u001b[0m\n\u001b[1;32m    117\u001b[0m \u001b[0;34m\u001b[0m\u001b[0m\n\u001b[0;32m--> 118\u001b[0;31m         \u001b[0msuper\u001b[0m\u001b[0;34m(\u001b[0m\u001b[0mBar\u001b[0m\u001b[0;34m,\u001b[0m \u001b[0mself\u001b[0m\u001b[0;34m)\u001b[0m\u001b[0;34m.\u001b[0m\u001b[0m__init__\u001b[0m\u001b[0;34m(\u001b[0m\u001b[0;34m*\u001b[0m\u001b[0margs\u001b[0m\u001b[0;34m,\u001b[0m \u001b[0;34m**\u001b[0m\u001b[0mkwargs\u001b[0m\u001b[0;34m)\u001b[0m\u001b[0;34m\u001b[0m\u001b[0m\n\u001b[0m\u001b[1;32m    119\u001b[0m \u001b[0;34m\u001b[0m\u001b[0m\n\u001b[1;32m    120\u001b[0m         \u001b[0;31m#Scales\u001b[0m\n\u001b[0;34m\u001b[0m\u001b[0m\n", 
        "\u001b[0;32m/usr/local/lib/python2.7/dist-packages/vincent/charts.pyc\u001b[0m in \u001b[0;36m__init__\u001b[0;34m(self, data, columns, key_on, iter_idx, width, height, grouped, no_data, *args, **kwargs)\u001b[0m\n\u001b[1;32m    100\u001b[0m                     \u001b[0;32mraise\u001b[0m \u001b[0mValueError\u001b[0m\u001b[0;34m(\u001b[0m\u001b[0;34m'The data structure is empty.'\u001b[0m\u001b[0;34m)\u001b[0m\u001b[0;34m\u001b[0m\u001b[0m\n\u001b[1;32m    101\u001b[0m             \u001b[0;32mif\u001b[0m \u001b[0misinstance\u001b[0m\u001b[0;34m(\u001b[0m\u001b[0mdata\u001b[0m\u001b[0;34m,\u001b[0m \u001b[0;34m(\u001b[0m\u001b[0mpd\u001b[0m\u001b[0;34m.\u001b[0m\u001b[0mSeries\u001b[0m\u001b[0;34m,\u001b[0m \u001b[0mpd\u001b[0m\u001b[0;34m.\u001b[0m\u001b[0mDataFrame\u001b[0m\u001b[0;34m)\u001b[0m\u001b[0;34m)\u001b[0m\u001b[0;34m:\u001b[0m\u001b[0;34m\u001b[0m\u001b[0m\n\u001b[0;32m--> 102\u001b[0;31m                 \u001b[0;32mif\u001b[0m \u001b[0misinstance\u001b[0m\u001b[0;34m(\u001b[0m\u001b[0mdata\u001b[0m\u001b[0;34m.\u001b[0m\u001b[0mindex\u001b[0m\u001b[0;34m,\u001b[0m \u001b[0mpd\u001b[0m\u001b[0;34m.\u001b[0m\u001b[0mDatetimeIndex\u001b[0m\u001b[0;34m)\u001b[0m\u001b[0;34m:\u001b[0m\u001b[0;34m\u001b[0m\u001b[0m\n\u001b[0m\u001b[1;32m    103\u001b[0m                     \u001b[0mself\u001b[0m\u001b[0;34m.\u001b[0m\u001b[0m_is_datetime\u001b[0m \u001b[0;34m=\u001b[0m \u001b[0mTrue\u001b[0m\u001b[0;34m\u001b[0m\u001b[0m\n\u001b[1;32m    104\u001b[0m \u001b[0;34m\u001b[0m\u001b[0m\n", 
        "\u001b[0;31mAttributeError\u001b[0m: 'module' object has no attribute 'DatetimeIndex'"
       ]
      }
     ], 
     "prompt_number": 33
    }, 
    {
     "cell_type": "code", 
     "collapsed": false, 
     "input": [
      "# Test Vincent Plotting", 
      "", 
      "import random", 
      "cat_1 = ['y1', 'y2', 'y3', 'y4']", 
      "index_1 = range(0, 21, 1)", 
      "multi_iter1 = {'index': index_1}", 
      "for cat in cat_1:", 
      "    multi_iter1[cat] = [random.randint(10, 100) for x in index_1]", 
      "    ", 
      "type(multi_iter1)"
     ], 
     "language": "python", 
     "outputs": [
      {
       "output_type": "pyout", 
       "prompt_number": 43, 
       "text": [
        "dict"
       ]
      }
     ], 
     "prompt_number": 43
    }, 
    {
     "cell_type": "code", 
     "collapsed": false, 
     "input": [
      "from vincent.ipynb import init_d3, init_vg, display_vega", 
      "", 
      "init_d3()", 
      "init_vg()", 
      "", 
      "line = vincent.Line(multi_iter1, iter_idx='index')", 
      "#display_vega(line)", 
      "line.display()"
     ], 
     "language": "python", 
     "outputs": [
      {
       "html": [
        "<script src=\"http://d3js.org/d3.v3.min.js\"></script>"
       ], 
       "output_type": "display_data", 
       "text": [
        "<IPython.core.display.HTML at 0xb33688c>"
       ]
      }, 
      {
       "html": [
        "<script src=\"http://trifacta.github.com/vega/vega.js\"></script>"
       ], 
       "output_type": "display_data", 
       "text": [
        "<IPython.core.display.HTML at 0xb33690c>"
       ]
      }, 
      {
       "html": [
        "<div id=\"vis50505\"></div>"
       ], 
       "output_type": "display_data", 
       "text": [
        "<IPython.core.display.HTML at 0xb33690c>"
       ]
      }, 
      {
       "javascript": [
        "", 
        "( function() {", 
        "  var _do_plot = function() {", 
        "    if ( typeof vg == 'undefined' ) {", 
        "      $([IPython.events]).on(\"vega_loaded.vincent\", _do_plot);", 
        "      return;", 
        "    }", 
        "    vg.parse.spec({\"axes\": [{\"scale\": \"x\", \"type\": \"x\"}, {\"scale\": \"y\", \"type\": \"y\"}], \"data\": [{\"name\": \"table\", \"values\": [{\"col\": \"y1\", \"idx\": 0, \"val\": 32}, {\"col\": \"y1\", \"idx\": 1, \"val\": 26}, {\"col\": \"y1\", \"idx\": 2, \"val\": 86}, {\"col\": \"y1\", \"idx\": 3, \"val\": 24}, {\"col\": \"y1\", \"idx\": 4, \"val\": 76}, {\"col\": \"y1\", \"idx\": 5, \"val\": 14}, {\"col\": \"y1\", \"idx\": 6, \"val\": 66}, {\"col\": \"y1\", \"idx\": 7, \"val\": 81}, {\"col\": \"y1\", \"idx\": 8, \"val\": 98}, {\"col\": \"y1\", \"idx\": 9, \"val\": 27}, {\"col\": \"y1\", \"idx\": 10, \"val\": 22}, {\"col\": \"y1\", \"idx\": 11, \"val\": 74}, {\"col\": \"y1\", \"idx\": 12, \"val\": 56}, {\"col\": \"y1\", \"idx\": 13, \"val\": 51}, {\"col\": \"y1\", \"idx\": 14, \"val\": 100}, {\"col\": \"y1\", \"idx\": 15, \"val\": 42}, {\"col\": \"y1\", \"idx\": 16, \"val\": 91}, {\"col\": \"y1\", \"idx\": 17, \"val\": 70}, {\"col\": \"y1\", \"idx\": 18, \"val\": 79}, {\"col\": \"y1\", \"idx\": 19, \"val\": 74}, {\"col\": \"y1\", \"idx\": 20, \"val\": 98}, {\"col\": \"y2\", \"idx\": 0, \"val\": 61}, {\"col\": \"y2\", \"idx\": 1, \"val\": 38}, {\"col\": \"y2\", \"idx\": 2, \"val\": 52}, {\"col\": \"y2\", \"idx\": 3, \"val\": 21}, {\"col\": \"y2\", \"idx\": 4, \"val\": 90}, {\"col\": \"y2\", \"idx\": 5, \"val\": 70}, {\"col\": \"y2\", \"idx\": 6, \"val\": 39}, {\"col\": \"y2\", \"idx\": 7, \"val\": 74}, {\"col\": \"y2\", \"idx\": 8, \"val\": 70}, {\"col\": \"y2\", \"idx\": 9, \"val\": 41}, {\"col\": \"y2\", \"idx\": 10, \"val\": 30}, {\"col\": \"y2\", \"idx\": 11, \"val\": 39}, {\"col\": \"y2\", \"idx\": 12, \"val\": 44}, {\"col\": \"y2\", \"idx\": 13, \"val\": 34}, {\"col\": \"y2\", \"idx\": 14, \"val\": 40}, {\"col\": \"y2\", \"idx\": 15, \"val\": 16}, {\"col\": \"y2\", \"idx\": 16, \"val\": 80}, {\"col\": \"y2\", \"idx\": 17, \"val\": 71}, {\"col\": \"y2\", \"idx\": 18, \"val\": 11}, {\"col\": \"y2\", \"idx\": 19, \"val\": 49}, {\"col\": \"y2\", \"idx\": 20, \"val\": 60}, {\"col\": \"y3\", \"idx\": 0, \"val\": 76}, {\"col\": \"y3\", \"idx\": 1, \"val\": 16}, {\"col\": \"y3\", \"idx\": 2, \"val\": 85}, {\"col\": \"y3\", \"idx\": 3, \"val\": 24}, {\"col\": \"y3\", \"idx\": 4, \"val\": 21}, {\"col\": \"y3\", \"idx\": 5, \"val\": 38}, {\"col\": \"y3\", \"idx\": 6, \"val\": 41}, {\"col\": \"y3\", \"idx\": 7, \"val\": 96}, {\"col\": \"y3\", \"idx\": 8, \"val\": 57}, {\"col\": \"y3\", \"idx\": 9, \"val\": 94}, {\"col\": \"y3\", \"idx\": 10, \"val\": 68}, {\"col\": \"y3\", \"idx\": 11, \"val\": 76}, {\"col\": \"y3\", \"idx\": 12, \"val\": 17}, {\"col\": \"y3\", \"idx\": 13, \"val\": 75}, {\"col\": \"y3\", \"idx\": 14, \"val\": 100}, {\"col\": \"y3\", \"idx\": 15, \"val\": 14}, {\"col\": \"y3\", \"idx\": 16, \"val\": 58}, {\"col\": \"y3\", \"idx\": 17, \"val\": 52}, {\"col\": \"y3\", \"idx\": 18, \"val\": 57}, {\"col\": \"y3\", \"idx\": 19, \"val\": 62}, {\"col\": \"y3\", \"idx\": 20, \"val\": 72}, {\"col\": \"y4\", \"idx\": 0, \"val\": 40}, {\"col\": \"y4\", \"idx\": 1, \"val\": 61}, {\"col\": \"y4\", \"idx\": 2, \"val\": 92}, {\"col\": \"y4\", \"idx\": 3, \"val\": 29}, {\"col\": \"y4\", \"idx\": 4, \"val\": 62}, {\"col\": \"y4\", \"idx\": 5, \"val\": 54}, {\"col\": \"y4\", \"idx\": 6, \"val\": 42}, {\"col\": \"y4\", \"idx\": 7, \"val\": 61}, {\"col\": \"y4\", \"idx\": 8, \"val\": 100}, {\"col\": \"y4\", \"idx\": 9, \"val\": 20}, {\"col\": \"y4\", \"idx\": 10, \"val\": 27}, {\"col\": \"y4\", \"idx\": 11, \"val\": 50}, {\"col\": \"y4\", \"idx\": 12, \"val\": 93}, {\"col\": \"y4\", \"idx\": 13, \"val\": 50}, {\"col\": \"y4\", \"idx\": 14, \"val\": 22}, {\"col\": \"y4\", \"idx\": 15, \"val\": 46}, {\"col\": \"y4\", \"idx\": 16, \"val\": 82}, {\"col\": \"y4\", \"idx\": 17, \"val\": 74}, {\"col\": \"y4\", \"idx\": 18, \"val\": 65}, {\"col\": \"y4\", \"idx\": 19, \"val\": 38}, {\"col\": \"y4\", \"idx\": 20, \"val\": 70}]}], \"height\": 500, \"legends\": [], \"marks\": [{\"from\": {\"data\": \"table\", \"transform\": [{\"keys\": [\"data.col\"], \"type\": \"facet\"}]}, \"marks\": [{\"properties\": {\"enter\": {\"stroke\": {\"field\": \"data.col\", \"scale\": \"color\"}, \"strokeWidth\": {\"value\": 2}, \"x\": {\"field\": \"data.idx\", \"scale\": \"x\"}, \"y\": {\"field\": \"data.val\", \"scale\": \"y\"}}}, \"type\": \"line\"}], \"type\": \"group\"}], \"padding\": {\"bottom\": 50, \"left\": 50, \"right\": 100, \"top\": 10}, \"scales\": [{\"domain\": {\"data\": \"table\", \"field\": \"data.idx\"}, \"name\": \"x\", \"range\": \"width\", \"type\": \"linear\"}, {\"domain\": {\"data\": \"table\", \"field\": \"data.val\"}, \"name\": \"y\", \"nice\": true, \"range\": \"height\", \"type\": \"linear\"}, {\"domain\": {\"data\": \"table\", \"field\": \"data.col\"}, \"name\": \"color\", \"range\": \"category20\", \"type\": \"ordinal\"}], \"width\": 960}, function(chart) {", 
        "      chart({el: \"#vis50505\"}).update();", 
        "    });", 
        "  };", 
        "  _do_plot();", 
        "})();"
       ], 
       "output_type": "display_data", 
       "text": [
        "<IPython.core.display.Javascript at 0xb33498c>"
       ]
      }
     ], 
     "prompt_number": 46
    }, 
    {
     "cell_type": "code", 
     "collapsed": true, 
     "input": [], 
     "language": "python", 
     "outputs": []
    }
   ]
  }
 ]
}